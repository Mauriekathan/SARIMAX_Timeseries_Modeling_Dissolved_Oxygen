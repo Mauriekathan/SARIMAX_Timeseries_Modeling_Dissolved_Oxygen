{
 "cells": [
  {
   "cell_type": "code",
   "execution_count": 2,
   "metadata": {},
   "outputs": [],
   "source": [
    "import pandas as pd\n",
    "import numpy as np\n",
    "import matplotlib.pyplot as plt\n",
    "import calendar\n",
    "from statsmodels.tsa.arima_model import ARIMA\n",
    "from statsmodels.tsa.stattools import acf, pacf, adfuller\n",
    "from statsmodels.graphics.tsaplots import plot_acf, plot_pacf\n",
    "from sklearn.metrics import mean_absolute_error, mean_squared_error\n",
    "from statsmodels.tsa.statespace.sarimax import SARIMAX\n",
    "from keras.models import Sequential\n",
    "from keras.layers import Dense\n",
    "from keras.layers import LSTM\n",
    "from sklearn.preprocessing import MinMaxScaler\n",
    "pd.set_option('display.max_rows', 2000)\n",
    "pd.set_option('display.max_columns', 500)\n",
    "\n",
    "from my_imports import acf_plot\n",
    "from my_imports import sarimax_plot, sarimax_eval\n",
    "from File_creation import gap_less\n",
    "\n",
    "import warnings\n",
    "warnings.filterwarnings('ignore')\n",
    "\n",
    "np.random.seed(42)\n",
    "\n",
    "#code in this notebook inspired by https://machinelearningmastery.com/time-series-prediction-lstm-recurrent-neural-networks-python-keras/\n",
    "#and Kiefer Katovich"
   ]
  },
  {
   "cell_type": "markdown",
   "metadata": {},
   "source": [
    "## Creating Dissolved Oxygen Dataset"
   ]
  },
  {
   "cell_type": "code",
   "execution_count": 3,
   "metadata": {},
   "outputs": [],
   "source": [
    "#created aggregated dataframe with which averages the data from all of the sites.\n",
    "agg_data = gap_less.groupby(gap_less.index).mean()"
   ]
  },
  {
   "cell_type": "code",
   "execution_count": 4,
   "metadata": {},
   "outputs": [],
   "source": [
    "#creating dissolved only dataframe\n",
    "do_data = agg_data[['dissolved_oxygen']]"
   ]
  },
  {
   "cell_type": "markdown",
   "metadata": {},
   "source": [
    "## Normalizing the Data"
   ]
  },
  {
   "cell_type": "code",
   "execution_count": 5,
   "metadata": {},
   "outputs": [],
   "source": [
    "scaler = MinMaxScaler(feature_range=(0, 1))\n",
    "data_nm = scaler.fit_transform(do_data)"
   ]
  },
  {
   "cell_type": "code",
   "execution_count": 6,
   "metadata": {},
   "outputs": [
    {
     "data": {
      "text/plain": [
       "(233, 1)"
      ]
     },
     "execution_count": 6,
     "metadata": {},
     "output_type": "execute_result"
    }
   ],
   "source": [
    "data_nm.shape"
   ]
  },
  {
   "cell_type": "markdown",
   "metadata": {},
   "source": [
    "## Train Test"
   ]
  },
  {
   "cell_type": "code",
   "execution_count": 7,
   "metadata": {},
   "outputs": [
    {
     "data": {
      "text/plain": [
       "186.4"
      ]
     },
     "execution_count": 7,
     "metadata": {},
     "output_type": "execute_result"
    }
   ],
   "source": [
    "#identifying shape of training set\n",
    "data_nm.shape[0] * .8"
   ]
  },
  {
   "cell_type": "code",
   "execution_count": 8,
   "metadata": {},
   "outputs": [],
   "source": [
    "#Slitting data into training and testing shapes\n",
    "train = data_nm[0:186]\n",
    "test = data_nm[186:]"
   ]
  },
  {
   "cell_type": "code",
   "execution_count": 9,
   "metadata": {},
   "outputs": [
    {
     "data": {
      "text/plain": [
       "(47, 1)"
      ]
     },
     "execution_count": 9,
     "metadata": {},
     "output_type": "execute_result"
    }
   ],
   "source": [
    "test.shape"
   ]
  },
  {
   "cell_type": "code",
   "execution_count": 10,
   "metadata": {},
   "outputs": [
    {
     "data": {
      "text/plain": [
       "(186, 1)"
      ]
     },
     "execution_count": 10,
     "metadata": {},
     "output_type": "execute_result"
    }
   ],
   "source": [
    "train.shape"
   ]
  },
  {
   "cell_type": "markdown",
   "metadata": {},
   "source": [
    "## LSTM"
   ]
  },
  {
   "cell_type": "code",
   "execution_count": 78,
   "metadata": {},
   "outputs": [],
   "source": [
    "# convert an array of values into a dataset matrix which is need for the LSTM\n",
    "def create_dataset(dataset, look_back=1):\n",
    "    #creating lists for each X and Y (X is variable at time t, y is variable at t+lookback)\n",
    "    dataX, dataY = [], []\n",
    "    #looping to create the different arrays\n",
    "    for i in range(len(dataset)-look_back-1):\n",
    "        #indexing the data for the X\n",
    "        a = dataset[i:(i+look_back), 0]\n",
    "        dataX.append(a)\n",
    "        #indexing for y\n",
    "        dataY.append(dataset[i + look_back, 0])\n",
    "\n",
    "    return np.array(dataX), np.array(dataY)"
   ]
  },
  {
   "cell_type": "code",
   "execution_count": 79,
   "metadata": {},
   "outputs": [],
   "source": [
    "# reshape into X=t and Y=t+1\n",
    "look_back = 1\n",
    "trainX, trainY = create_dataset(train, look_back)\n",
    "testX, testY = create_dataset(test, look_back)"
   ]
  },
  {
   "cell_type": "code",
   "execution_count": 80,
   "metadata": {},
   "outputs": [],
   "source": [
    "# reshaping the data so that it works within a LSTM structure\n",
    "# reshape input to be [samples, time steps, features]\n",
    "trainX = np.reshape(trainX, (trainX.shape[0], 1, trainX.shape[1]))\n",
    "testX = np.reshape(testX, (testX.shape[0], 1, testX.shape[1]))"
   ]
  },
  {
   "cell_type": "code",
   "execution_count": 81,
   "metadata": {},
   "outputs": [
    {
     "name": "stdout",
     "output_type": "stream",
     "text": [
      "Epoch 1/100\n",
      " - 2s - loss: 0.0918\n",
      "Epoch 2/100\n",
      " - 0s - loss: 0.0123\n",
      "Epoch 3/100\n",
      " - 0s - loss: 0.0130\n",
      "Epoch 4/100\n",
      " - 0s - loss: 0.0122\n",
      "Epoch 5/100\n",
      " - 0s - loss: 0.0123\n",
      "Epoch 6/100\n",
      " - 0s - loss: 0.0124\n",
      "Epoch 7/100\n",
      " - 0s - loss: 0.0120\n",
      "Epoch 8/100\n",
      " - 0s - loss: 0.0125\n",
      "Epoch 9/100\n",
      " - 0s - loss: 0.0120\n",
      "Epoch 10/100\n",
      " - 0s - loss: 0.0118\n",
      "Epoch 11/100\n",
      " - 0s - loss: 0.0120\n",
      "Epoch 12/100\n",
      " - 0s - loss: 0.0131\n",
      "Epoch 13/100\n",
      " - 0s - loss: 0.0120\n",
      "Epoch 14/100\n",
      " - 0s - loss: 0.0127\n",
      "Epoch 15/100\n",
      " - 0s - loss: 0.0126\n",
      "Epoch 16/100\n",
      " - 0s - loss: 0.0120\n",
      "Epoch 17/100\n",
      " - 0s - loss: 0.0123\n",
      "Epoch 18/100\n",
      " - 0s - loss: 0.0123\n",
      "Epoch 19/100\n",
      " - 0s - loss: 0.0122\n",
      "Epoch 20/100\n",
      " - 0s - loss: 0.0120\n",
      "Epoch 21/100\n",
      " - 0s - loss: 0.0123\n",
      "Epoch 22/100\n",
      " - 0s - loss: 0.0124\n",
      "Epoch 23/100\n",
      " - 0s - loss: 0.0126\n",
      "Epoch 24/100\n",
      " - 0s - loss: 0.0122\n",
      "Epoch 25/100\n",
      " - 0s - loss: 0.0123\n",
      "Epoch 26/100\n",
      " - 0s - loss: 0.0125\n",
      "Epoch 27/100\n",
      " - 0s - loss: 0.0115\n",
      "Epoch 28/100\n",
      " - 0s - loss: 0.0124\n",
      "Epoch 29/100\n",
      " - 0s - loss: 0.0119\n",
      "Epoch 30/100\n",
      " - 0s - loss: 0.0124\n",
      "Epoch 31/100\n",
      " - 0s - loss: 0.0116\n",
      "Epoch 32/100\n",
      " - 0s - loss: 0.0122\n",
      "Epoch 33/100\n",
      " - 0s - loss: 0.0123\n",
      "Epoch 34/100\n",
      " - 0s - loss: 0.0123\n",
      "Epoch 35/100\n",
      " - 0s - loss: 0.0118\n",
      "Epoch 36/100\n",
      " - 0s - loss: 0.0118\n",
      "Epoch 37/100\n",
      " - 0s - loss: 0.0117\n",
      "Epoch 38/100\n",
      " - 0s - loss: 0.0120\n",
      "Epoch 39/100\n",
      " - 0s - loss: 0.0118\n",
      "Epoch 40/100\n",
      " - 0s - loss: 0.0120\n",
      "Epoch 41/100\n",
      " - 0s - loss: 0.0118\n",
      "Epoch 42/100\n",
      " - 0s - loss: 0.0114\n",
      "Epoch 43/100\n",
      " - 0s - loss: 0.0119\n",
      "Epoch 44/100\n",
      " - 0s - loss: 0.0117\n",
      "Epoch 45/100\n",
      " - 0s - loss: 0.0118\n",
      "Epoch 46/100\n",
      " - 0s - loss: 0.0117\n",
      "Epoch 47/100\n",
      " - 0s - loss: 0.0121\n",
      "Epoch 48/100\n",
      " - 0s - loss: 0.0118\n",
      "Epoch 49/100\n",
      " - 0s - loss: 0.0115\n",
      "Epoch 50/100\n",
      " - 0s - loss: 0.0118\n",
      "Epoch 51/100\n",
      " - 0s - loss: 0.0116\n",
      "Epoch 52/100\n",
      " - 0s - loss: 0.0115\n",
      "Epoch 53/100\n",
      " - 0s - loss: 0.0118\n",
      "Epoch 54/100\n",
      " - 0s - loss: 0.0120\n",
      "Epoch 55/100\n",
      " - 0s - loss: 0.0117\n",
      "Epoch 56/100\n",
      " - 0s - loss: 0.0121\n",
      "Epoch 57/100\n",
      " - 0s - loss: 0.0116\n",
      "Epoch 58/100\n",
      " - 0s - loss: 0.0120\n",
      "Epoch 59/100\n",
      " - 0s - loss: 0.0113\n",
      "Epoch 60/100\n",
      " - 0s - loss: 0.0122\n",
      "Epoch 61/100\n",
      " - 0s - loss: 0.0113\n",
      "Epoch 62/100\n",
      " - 0s - loss: 0.0122\n",
      "Epoch 63/100\n",
      " - 0s - loss: 0.0121\n",
      "Epoch 64/100\n",
      " - 0s - loss: 0.0118\n",
      "Epoch 65/100\n",
      " - 0s - loss: 0.0113\n",
      "Epoch 66/100\n",
      " - 0s - loss: 0.0114\n",
      "Epoch 67/100\n",
      " - 0s - loss: 0.0115\n",
      "Epoch 68/100\n",
      " - 0s - loss: 0.0117\n",
      "Epoch 69/100\n",
      " - 0s - loss: 0.0114\n",
      "Epoch 70/100\n",
      " - 0s - loss: 0.0117\n",
      "Epoch 71/100\n",
      " - 0s - loss: 0.0116\n",
      "Epoch 72/100\n",
      " - 0s - loss: 0.0119\n",
      "Epoch 73/100\n",
      " - 0s - loss: 0.0114\n",
      "Epoch 74/100\n",
      " - 0s - loss: 0.0120\n",
      "Epoch 75/100\n",
      " - 0s - loss: 0.0118\n",
      "Epoch 76/100\n",
      " - 0s - loss: 0.0119\n",
      "Epoch 77/100\n",
      " - 0s - loss: 0.0118\n",
      "Epoch 78/100\n",
      " - 0s - loss: 0.0116\n",
      "Epoch 79/100\n",
      " - 0s - loss: 0.0121\n",
      "Epoch 80/100\n",
      " - 0s - loss: 0.0118\n",
      "Epoch 81/100\n",
      " - 0s - loss: 0.0115\n",
      "Epoch 82/100\n",
      " - 0s - loss: 0.0119\n",
      "Epoch 83/100\n",
      " - 0s - loss: 0.0114\n",
      "Epoch 84/100\n",
      " - 0s - loss: 0.0117\n",
      "Epoch 85/100\n",
      " - 0s - loss: 0.0118\n",
      "Epoch 86/100\n",
      " - 0s - loss: 0.0115\n",
      "Epoch 87/100\n",
      " - 0s - loss: 0.0115\n",
      "Epoch 88/100\n",
      " - 0s - loss: 0.0121\n",
      "Epoch 89/100\n",
      " - 0s - loss: 0.0115\n",
      "Epoch 90/100\n",
      " - 0s - loss: 0.0119\n",
      "Epoch 91/100\n",
      " - 0s - loss: 0.0119\n",
      "Epoch 92/100\n",
      " - 0s - loss: 0.0115\n",
      "Epoch 93/100\n",
      " - 0s - loss: 0.0116\n",
      "Epoch 94/100\n",
      " - 0s - loss: 0.0117\n",
      "Epoch 95/100\n",
      " - 0s - loss: 0.0115\n",
      "Epoch 96/100\n",
      " - 1s - loss: 0.0115\n",
      "Epoch 97/100\n",
      " - 0s - loss: 0.0115\n",
      "Epoch 98/100\n",
      " - 0s - loss: 0.0117\n",
      "Epoch 99/100\n",
      " - 0s - loss: 0.0116\n",
      "Epoch 100/100\n",
      " - 0s - loss: 0.0117\n"
     ]
    },
    {
     "data": {
      "text/plain": [
       "<keras.callbacks.History at 0x1c3d5eefd0>"
      ]
     },
     "execution_count": 81,
     "metadata": {},
     "output_type": "execute_result"
    }
   ],
   "source": [
    "# create and fit the LSTM network\n",
    "batch_size = 1\n",
    "model = Sequential()\n",
    "model.add(LSTM(4, \n",
    "               batch_input_shape=(batch_size, trainX.shape[1], trainX.shape[2]), \n",
    "               stateful=True))\n",
    "model.add(Dense(1))\n",
    "model.compile(loss='mean_squared_error', optimizer='adam')\n",
    "model.fit(trainX, trainY, epochs=100, batch_size=1, verbose=2)"
   ]
  },
  {
   "cell_type": "code",
   "execution_count": 82,
   "metadata": {},
   "outputs": [
    {
     "name": "stdout",
     "output_type": "stream",
     "text": [
      "Train Score: 0.94 MAE\n",
      "Test Score: 1.17 MAE\n"
     ]
    }
   ],
   "source": [
    "# make predictions\n",
    "trainPredict = model.predict(trainX, batch_size = batch_size)\n",
    "testPredict = model.predict(testX, batch_size = batch_size)\n",
    "# invert predictions\n",
    "trainPredict = scaler.inverse_transform(trainPredict)\n",
    "trainY = scaler.inverse_transform([trainY])\n",
    "testPredict = scaler.inverse_transform(testPredict)\n",
    "testY = scaler.inverse_transform([testY])\n",
    "# calculate root mean squared error\n",
    "trainScore = (mean_absolute_error(trainY[0], trainPredict[:,0]))\n",
    "print('Train Score: %.2f MAE' % (trainScore))\n",
    "testScore = (mean_absolute_error(testY[0], testPredict[:,0]))**(1/2)\n",
    "print('Test Score: %.2f MAE' % (testScore))"
   ]
  },
  {
   "cell_type": "code",
   "execution_count": null,
   "metadata": {},
   "outputs": [],
   "source": [
    "# shift train predictions for plotting\n",
    "trainPredictPlot = np.empty_like(data_nm)\n",
    "trainPredictPlot[:, :] = np.nan\n",
    "trainPredictPlot[look_back:len(trainPredict)+look_back, :] = trainPredict\n",
    "# shift test predictions for plotting\n",
    "testPredictPlot = np.empty_like(data_nm)\n",
    "testPredictPlot[:, :] = np.nan\n",
    "testPredictPlot[len(trainPredict)+(look_back*2)+1:len(data_nm)-1, :] = testPredict\n",
    "# plot baseline and predictions\n",
    "plt.figure(figsize=(20,10))\n",
    "plt.plot(scaler.inverse_transform(data_nm), label = 'Collected Data')\n",
    "plt.plot(trainPredictPlot, label = 'Predicted Train')\n",
    "plt.plot(testPredictPlot, label = 'Predicted Train')\n",
    "plt.title('LSTM Predictions', fontsize=30)\n",
    "plt.xticks(fontsize=10)\n",
    "plt.yticks(fontsize=10)\n",
    "plt.ylabel('Dissolved Oxygen Level',fontsize=15)\n",
    "plt.xlabel('Steps',fontsize=15)\n",
    "plt.show()\n",
    "plt.savefig('./Images/LSTM.png',bbox_inches='tight')"
   ]
  },
  {
   "cell_type": "code",
   "execution_count": null,
   "metadata": {},
   "outputs": [],
   "source": []
  },
  {
   "cell_type": "code",
   "execution_count": null,
   "metadata": {},
   "outputs": [],
   "source": []
  }
 ],
 "metadata": {
  "kernelspec": {
   "display_name": "Python 3",
   "language": "python",
   "name": "python3"
  },
  "language_info": {
   "codemirror_mode": {
    "name": "ipython",
    "version": 3
   },
   "file_extension": ".py",
   "mimetype": "text/x-python",
   "name": "python",
   "nbconvert_exporter": "python",
   "pygments_lexer": "ipython3",
   "version": "3.6.7"
  }
 },
 "nbformat": 4,
 "nbformat_minor": 2
}
